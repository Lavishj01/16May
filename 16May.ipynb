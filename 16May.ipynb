{
 "cells": [
  {
   "cell_type": "code",
   "execution_count": 5,
   "id": "620aa0df-fa68-43ab-9a42-dbca56720604",
   "metadata": {},
   "outputs": [
    {
     "name": "stdin",
     "output_type": "stream",
     "text": [
      "Enter Income:  50000\n"
     ]
    },
    {
     "name": "stdout",
     "output_type": "stream",
     "text": [
      "7000.0\n"
     ]
    }
   ],
   "source": [
    "income=int(input(\"Enter Income: \"))\n",
    "first=10000\n",
    "second=20000\n",
    "if (income<=first):\n",
    "    tax=0\n",
    "elif(income<=second):\n",
    "    tax=(income-first)*0.1\n",
    "else:\n",
    "    tax=(income-first)*0.0+(second-first)*0.1+(income-second)*0.2\n",
    "print(tax)\n",
    "\n",
    "    \n"
   ]
  },
  {
   "cell_type": "code",
   "execution_count": 9,
   "id": "739eef86-05f8-48db-8f56-29194a90a627",
   "metadata": {},
   "outputs": [
    {
     "name": "stdin",
     "output_type": "stream",
     "text": [
      "Enter angle1:  12\n",
      "Enter angle2:  12\n",
      "Enter angle3:  12\n"
     ]
    },
    {
     "name": "stdout",
     "output_type": "stream",
     "text": [
      "No\n"
     ]
    }
   ],
   "source": [
    "a1=int(input(\"Enter angle1: \"))\n",
    "a2=int(input(\"Enter angle2: \"))\n",
    "a3=int(input(\"Enter angle3: \"))\n",
    "if(a1+a2+a3==180):\n",
    "    print(\"Yes\")\n",
    "else:\n",
    "            print(\"No\")"
   ]
  },
  {
   "cell_type": "code",
   "execution_count": 12,
   "id": "390aa8d1-9166-45f0-8a3b-788724535e2c",
   "metadata": {},
   "outputs": [
    {
     "name": "stdin",
     "output_type": "stream",
     "text": [
      "Enter Temperature:  29\n",
      "Enter Humidity:  91\n"
     ]
    },
    {
     "name": "stdout",
     "output_type": "stream",
     "text": [
      "cold anf Humid\n"
     ]
    }
   ],
   "source": [
    "temp=int(input(\"Enter Temperature: \"))\n",
    "humid=int(input(\"Enter Humidity: \"))\n",
    "if(temp>=30 and humid>=90):\n",
    "          print(\"Hot and Humid\")\n",
    "elif(temp>=30 and humid<90):\n",
    "    print(\"Hot\")\n",
    "elif(temp<30 and humid>=90):\n",
    "    print(\"cold anf Humid\")\n",
    "else:\n",
    "    print(\"Cool\")\n",
    "    "
   ]
  },
  {
   "cell_type": "code",
   "execution_count": 18,
   "id": "0a054a0f-b38b-45bd-b05c-8151e05ae040",
   "metadata": {},
   "outputs": [
    {
     "name": "stdin",
     "output_type": "stream",
     "text": [
      "Enter input 1\n",
      "Enter value in cm 12\n"
     ]
    },
    {
     "name": "stdout",
     "output_type": "stream",
     "text": [
      "0.384\n"
     ]
    }
   ],
   "source": [
    "user=int(input(\"Enter input\"))\n",
    "if(user==1):\n",
    "    cm=float(input(\"Enter value in cm\"))\n",
    "    ft=cm*0.032\n",
    "    print(ft)\n",
    "elif(user==2):\n",
    "    km=float(input(\"Enter value in km\"))\n",
    "    miles=km*0.621\n",
    "    print(miles)\n",
    "elif(user==3):\n",
    "    usd=input(\"Enter usd\")\n",
    "    inr=usd*83\n",
    "    print(inr)\n",
    "elif(user==4):\n",
    "       pass\n",
    "else:\n",
    "    print(\"Invalid\")\n",
    "    \n",
    "    \n",
    "    "
   ]
  },
  {
   "cell_type": "code",
   "execution_count": 26,
   "id": "77b61b30-cae2-4970-95e8-9b7a4371edf4",
   "metadata": {},
   "outputs": [
    {
     "name": "stdout",
     "output_type": "stream",
     "text": [
      "-10 -9 -8 -7 -6 -5 -4 -3 -2 -1 "
     ]
    }
   ],
   "source": [
    "for i in range(-10,0):\n",
    "    print(i,end=\" \")\n",
    "   \n"
   ]
  },
  {
   "cell_type": "code",
   "execution_count": 27,
   "id": "a4a72251-d5f5-4f89-8e60-aee9e247d3cd",
   "metadata": {},
   "outputs": [
    {
     "name": "stdout",
     "output_type": "stream",
     "text": [
      "0 1 2 3 4 5 6 7 8 9 10 11 "
     ]
    }
   ],
   "source": [
    "i=0\n",
    "while(i<=11):\n",
    "    print(i,end=\" \")\n",
    "    i+=1\n",
    "    "
   ]
  },
  {
   "cell_type": "code",
   "execution_count": 25,
   "id": "823858ed-9c31-4788-821e-b8b812cb0dec",
   "metadata": {},
   "outputs": [
    {
     "name": "stdout",
     "output_type": "stream",
     "text": [
      "1 2 3 4 Done\n"
     ]
    }
   ],
   "source": [
    "for i in range(1,5):\n",
    "    print(i,end=\" \")\n",
    "else:\n",
    "    print(\"Done\")"
   ]
  },
  {
   "cell_type": "code",
   "execution_count": 30,
   "id": "7adaf163-5ea8-4476-967e-b334ef934009",
   "metadata": {},
   "outputs": [
    {
     "name": "stdout",
     "output_type": "stream",
     "text": [
      "120\n"
     ]
    }
   ],
   "source": [
    "n=5\n",
    "fact=1\n",
    "for i in range(1,n+1):\n",
    "    fact*=i\n",
    "print(fact)"
   ]
  },
  {
   "cell_type": "code",
   "execution_count": 33,
   "id": "aa6e1472-f44a-4a2f-9150-92a58690dc73",
   "metadata": {},
   "outputs": [
    {
     "name": "stdout",
     "output_type": "stream",
     "text": [
      "1 8 27 64 "
     ]
    }
   ],
   "source": [
    "n=4\n",
    "for i in range(1,n+1):\n",
    "    print(i**3,end=\" \")\n",
    "    "
   ]
  },
  {
   "cell_type": "code",
   "execution_count": 35,
   "id": "65cb7d80-8eae-4cf5-be73-9af5b32e31cc",
   "metadata": {},
   "outputs": [
    {
     "name": "stdin",
     "output_type": "stream",
     "text": [
      "Enter Cost Price:  100\n",
      "Enter Selling Price:  200\n"
     ]
    },
    {
     "name": "stdout",
     "output_type": "stream",
     "text": [
      "Profit\n"
     ]
    }
   ],
   "source": [
    "cp=int(input(\"Enter Cost Price: \"))\n",
    "sp=int(input(\"Enter Selling Price: \"))\n",
    "if(cp>sp):\n",
    "       print(\"Loss\")\n",
    "else:\n",
    "    print(\"Profit\")"
   ]
  },
  {
   "cell_type": "code",
   "execution_count": 37,
   "id": "be9d18c6-3ac1-43e1-b2ce-24e78e5bc1d7",
   "metadata": {},
   "outputs": [
    {
     "name": "stdout",
     "output_type": "stream",
     "text": [
      "1 3 5 7 9 11 13 15 17 19 "
     ]
    }
   ],
   "source": [
    "sum=0\n",
    "n=10\n",
    "for i in range(1,n+1):\n",
    "    sum=i+(i-1)\n",
    "    print(sum,end=\" \")\n",
    "\n"
   ]
  },
  {
   "cell_type": "code",
   "execution_count": 42,
   "id": "950866b2-a8f0-47cf-9a6b-94fa310e8361",
   "metadata": {},
   "outputs": [
    {
     "name": "stdout",
     "output_type": "stream",
     "text": [
      "2 3 4 5 6 7 8 9 10 \n",
      "4 6 8 10 12 14 16 18 20 \n",
      "6 9 12 15 18 21 24 27 30 \n",
      "8 12 16 20 24 28 32 36 40 \n",
      "10 15 20 25 30 35 40 45 50 \n",
      "12 18 24 30 36 42 48 54 60 \n",
      "14 21 28 35 42 49 56 63 70 \n",
      "16 24 32 40 48 56 64 72 80 \n",
      "18 27 36 45 54 63 72 81 90 \n",
      "20 30 40 50 60 70 80 90 100 \n"
     ]
    }
   ],
   "source": [
    "for i in range(1,11):\n",
    "    for j in range(2,11):\n",
    "        print(i*j,end=\" \")\n",
    "    print()\n"
   ]
  },
  {
   "cell_type": "code",
   "execution_count": 50,
   "id": "f1d2130f-eca6-4f13-948d-597b2afba43e",
   "metadata": {},
   "outputs": [
    {
     "name": "stdout",
     "output_type": "stream",
     "text": [
      "153 370 371 407 "
     ]
    }
   ],
   "source": [
    "for num in range(100, 1000):\n",
    "    h = num // 100\n",
    "    t = (num // 10) % 10\n",
    "    u = num % 10\n",
    "    if num == h**3 + t**3 + u**3:\n",
    "        print(num,end=\" \")\n"
   ]
  },
  {
   "cell_type": "code",
   "execution_count": null,
   "id": "a8dc62d0-319c-4e4b-a3e3-ef0adcde03df",
   "metadata": {},
   "outputs": [],
   "source": []
  }
 ],
 "metadata": {
  "kernelspec": {
   "display_name": "Python 3 (ipykernel)",
   "language": "python",
   "name": "python3"
  },
  "language_info": {
   "codemirror_mode": {
    "name": "ipython",
    "version": 3
   },
   "file_extension": ".py",
   "mimetype": "text/x-python",
   "name": "python",
   "nbconvert_exporter": "python",
   "pygments_lexer": "ipython3",
   "version": "3.10.4"
  }
 },
 "nbformat": 4,
 "nbformat_minor": 5
}
